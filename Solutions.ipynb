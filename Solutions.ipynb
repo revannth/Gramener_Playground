{
 "cells": [
  {
   "cell_type": "code",
   "execution_count": 1,
   "metadata": {},
   "outputs": [],
   "source": [
    "import pandas as pd\n"
   ]
  },
  {
   "cell_type": "code",
   "execution_count": 2,
   "metadata": {},
   "outputs": [],
   "source": [
    "from matplotlib import pyplot as pt\n"
   ]
  },
  {
   "cell_type": "code",
   "execution_count": 4,
   "metadata": {},
   "outputs": [
    {
     "name": "stderr",
     "output_type": "stream",
     "text": [
      "/Users/vedalasrinivas/Desktop/Gramener_Playgroud/venv/lib/python3.6/site-packages/IPython/core/interactiveshell.py:2728: DtypeWarning: Columns (1,5,7,9) have mixed types. Specify dtype option on import or set low_memory=False.\n",
      "  interactivity=interactivity, compiler=compiler, result=result)\n"
     ]
    }
   ],
   "source": [
    "\n",
    "df = pd.read_csv('assembly.csv',encoding='latin1')\n",
    "\n",
    "\n"
   ]
  },
  {
   "cell_type": "code",
   "execution_count": 13,
   "metadata": {},
   "outputs": [],
   "source": [
    "for elem in pd.isnull(df.AGE):\n",
    "    if elem==\"False\":\n",
    "        print(elem)\n",
    "\n",
    "    "
   ]
  },
  {
   "cell_type": "code",
   "execution_count": 14,
   "metadata": {},
   "outputs": [],
   "source": [
    "df.drop(['AGE'],inplace=True,axis=1)\n"
   ]
  },
  {
   "cell_type": "code",
   "execution_count": 23,
   "metadata": {},
   "outputs": [],
   "source": [
    "#stage = df.groupby(['ST_NAME','YEAR'])\n",
    "cols_drop = ['AC_NO','#','AC_NAME','AC_TYPE','SEX','CATEGORY']\n",
    "df.drop(cols_drop,inplace=True,axis=1)"
   ]
  },
  {
   "cell_type": "code",
   "execution_count": 33,
   "metadata": {},
   "outputs": [],
   "source": [
    "df.sort_values(by=['VOTES'],ascending=False,inplace=True)\n",
    "df.dropna(how='any',inplace=True)"
   ]
  },
  {
   "cell_type": "code",
   "execution_count": 34,
   "metadata": {},
   "outputs": [
    {
     "data": {
      "text/plain": [
       "(398452, 5)"
      ]
     },
     "execution_count": 34,
     "metadata": {},
     "output_type": "execute_result"
    }
   ],
   "source": [
    "df.shape"
   ]
  },
  {
   "cell_type": "code",
   "execution_count": 143,
   "metadata": {},
   "outputs": [],
   "source": [
    "def Answer(year,state):\n",
    "    k = df[df.YEAR==year]\n",
    "    k[k['ST_NAME']==state].sort_values(by='VOTES',ascending=False)\n",
    "    print(\"Candidate with Maximum Votes is {} and vote count is {}\".format(str(k.iloc[0].NAME),k.iloc[0].VOTES))\n",
    "    print(\"Candidate with Minimum Votes is {} and vote count is {}\".format(str(k.iloc[-1].NAME),k.iloc[-1].VOTES))\n",
    "    \n",
    "\n",
    "    \n",
    "    "
   ]
  },
  {
   "cell_type": "code",
   "execution_count": 144,
   "metadata": {},
   "outputs": [
    {
     "name": "stdout",
     "output_type": "stream",
     "text": [
      "Candidate with Maximum Votes is HIRA SINGH GABRIA and vote count is 135633.0\n",
      "Candidate with Minimum Votes is M. SHOKHOPAO HAOKIP and vote count is 10.0\n"
     ]
    }
   ],
   "source": [
    "'''k = df[df.YEAR==2007]\n",
    "\n",
    "k[k['ST_NAME']=='Punjab'].sort_values(by='VOTES',ascending=False)\n",
    "type(k.iloc[0].NAME)\n",
    "#k.iloc[-1].NAME '''\n",
    "Answer(2007,'Gujarat')"
   ]
  },
  {
   "cell_type": "code",
   "execution_count": 145,
   "metadata": {},
   "outputs": [],
   "source": [
    "df.PARTY\n",
    "\n",
    "def Dominant(state):\n",
    "    dominant = pd.melt(df,id_vars=[\"PARTY\",\"ST_NAME\"],value_vars=\"VOTES\")\n",
    "    dom = dominant[dominant.ST_NAME=='Gujarat'].max()\n",
    "    print(\"{} is dominant in {}\".format(dom.PARTY,dom.ST_NAME))"
   ]
  },
  {
   "cell_type": "code",
   "execution_count": 146,
   "metadata": {},
   "outputs": [
    {
     "name": "stdout",
     "output_type": "stream",
     "text": [
      "YVP is dominant in Gujarat\n"
     ]
    }
   ],
   "source": [
    "Dominant('Gujarat')"
   ]
  },
  {
   "cell_type": "code",
   "execution_count": 132,
   "metadata": {},
   "outputs": [
    {
     "data": {
      "text/plain": [
       "PARTY           YVP\n",
       "ST_NAME     Gujarat\n",
       "variable      VOTES\n",
       "value        584098\n",
       "dtype: object"
      ]
     },
     "execution_count": 132,
     "metadata": {},
     "output_type": "execute_result"
    }
   ],
   "source": [
    "dominant.head()\n",
    "dominant = pd.melt(df,id_vars=[\"PARTY\",\"ST_NAME\"],value_vars=\"VOTES\")\n",
    "dominant[dominant.ST_NAME=='Gujarat'].max()\n",
    "\n",
    "\n"
   ]
  },
  {
   "cell_type": "code",
   "execution_count": 136,
   "metadata": {},
   "outputs": [
    {
     "data": {
      "text/plain": [
       "Index(['ST_NAME', 'YEAR', 'NAME', 'PARTY', 'VOTES'], dtype='object')"
      ]
     },
     "execution_count": 136,
     "metadata": {},
     "output_type": "execute_result"
    }
   ],
   "source": [
    "df.columns"
   ]
  },
  {
   "cell_type": "code",
   "execution_count": null,
   "metadata": {},
   "outputs": [],
   "source": []
  }
 ],
 "metadata": {
  "kernelspec": {
   "display_name": "Python 3",
   "language": "python",
   "name": "python3"
  },
  "language_info": {
   "codemirror_mode": {
    "name": "ipython",
    "version": 3
   },
   "file_extension": ".py",
   "mimetype": "text/x-python",
   "name": "python",
   "nbconvert_exporter": "python",
   "pygments_lexer": "ipython3",
   "version": "3.6.2"
  }
 },
 "nbformat": 4,
 "nbformat_minor": 2
}
